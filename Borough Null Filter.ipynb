{
 "cells": [
  {
   "cell_type": "code",
   "execution_count": 1,
   "metadata": {},
   "outputs": [],
   "source": [
    "from pyspark.sql import SparkSession\n",
    "from pyspark import SparkConf, SparkContext"
   ]
  },
  {
   "cell_type": "code",
   "execution_count": 2,
   "metadata": {},
   "outputs": [],
   "source": [
    "import os\n",
    "os.environ['PYSPARK_DRIVER_PYTHON']='jupyter'\n",
    "\n",
    "os.environ['PYSPARK_PYTHON']='python'"
   ]
  },
  {
   "cell_type": "code",
   "execution_count": 3,
   "metadata": {},
   "outputs": [],
   "source": [
    "spark = SparkSession.builder.master(\"local[*]\").config(\"spark.driver.memory\", \"4g\").appName(\"test2\").getOrCreate()"
   ]
  },
  {
   "cell_type": "code",
   "execution_count": 4,
   "metadata": {},
   "outputs": [],
   "source": [
    "mvcdata = spark.read.format('csv').options(header='true',inferschema='true').load(\"learningData.csv\")\n",
    "mvcdata.createOrReplaceTempView(\"allData\")"
   ]
  },
  {
   "cell_type": "code",
   "execution_count": 6,
   "metadata": {},
   "outputs": [],
   "source": []
  },
  {
   "cell_type": "code",
   "execution_count": 7,
   "metadata": {},
   "outputs": [],
   "source": [
    "null_modified_sql = \"SELECT get_borough(a.LATITUDE,a.LONGITUDE,a.BOROUGH) as B1, a.* from allData a \" "
   ]
  },
  {
   "cell_type": "code",
   "execution_count": 8,
   "metadata": {},
   "outputs": [],
   "source": [
    "from shapely.geometry import Point, shape\n",
    "import geopandas as gpd\n",
    "def get_borough(latitude, longitude,borough):\n",
    "    if borough is not None:\n",
    "        return borough\n",
    "    if latitude is None or longitude is None:\n",
    "        return \"\"\n",
    "    shapefile_path = 'nyc_borough.shx'\n",
    "    boroughs_gdf = gpd.read_file(shapefile_path)\n",
    "    point = Point(longitude, latitude)\n",
    "    boroughs = [\"BRONX\",\"QUEENS\",\"MANHATTAN\",\"BROOKLYN\",\"STATEN ISLAND\"]\n",
    "    for index, row in boroughs_gdf.iterrows():\n",
    "        polygon = row['geometry']\n",
    "        if polygon.contains(point):\n",
    "            #print(boroughs[index])\n",
    "            return boroughs[index]\n",
    "            #return row['Borough']\n",
    "\n",
    "    return ''"
   ]
  },
  {
   "cell_type": "code",
   "execution_count": 9,
   "metadata": {},
   "outputs": [
    {
     "data": {
      "text/plain": [
       "<function __main__.get_borough(latitude, longitude, borough)>"
      ]
     },
     "execution_count": 9,
     "metadata": {},
     "output_type": "execute_result"
    }
   ],
   "source": [
    "spark.udf.register(\"get_borough\",get_borough)"
   ]
  },
  {
   "cell_type": "code",
   "execution_count": 10,
   "metadata": {},
   "outputs": [],
   "source": [
    "null_modified_df = spark.sql(null_modified_sql)"
   ]
  },
  {
   "cell_type": "code",
   "execution_count": null,
   "metadata": {},
   "outputs": [],
   "source": []
  },
  {
   "cell_type": "code",
   "execution_count": 12,
   "metadata": {},
   "outputs": [
    {
     "name": "stdout",
     "output_type": "stream",
     "text": [
      "+-------------+----------+----------+---------+--------+---------+----------+--------------------+--------------------+--------------------+--------------------+-------------------------+------------------------+-----------------------------+----------------------------+-------------------------+------------------------+--------------------------+-------------------------+-----------------------------+-----------------------------+-----------------------------+-----------------------------+-----------------------------+------------+--------------------+--------------------+-------------------+-------------------+-------------------+\n",
      "|           B1|CRASH DATE|CRASH TIME|  BOROUGH|ZIP CODE| LATITUDE| LONGITUDE|            LOCATION|      ON STREET NAME|   CROSS STREET NAME|     OFF STREET NAME|NUMBER OF PERSONS INJURED|NUMBER OF PERSONS KILLED|NUMBER OF PEDESTRIANS INJURED|NUMBER OF PEDESTRIANS KILLED|NUMBER OF CYCLIST INJURED|NUMBER OF CYCLIST KILLED|NUMBER OF MOTORIST INJURED|NUMBER OF MOTORIST KILLED|CONTRIBUTING FACTOR VEHICLE 1|CONTRIBUTING FACTOR VEHICLE 2|CONTRIBUTING FACTOR VEHICLE 3|CONTRIBUTING FACTOR VEHICLE 4|CONTRIBUTING FACTOR VEHICLE 5|COLLISION_ID| VEHICLE TYPE CODE 1| VEHICLE TYPE CODE 2|VEHICLE TYPE CODE 3|VEHICLE TYPE CODE 4|VEHICLE TYPE CODE 5|\n",
      "+-------------+----------+----------+---------+--------+---------+----------+--------------------+--------------------+--------------------+--------------------+-------------------------+------------------------+-----------------------------+----------------------------+-------------------------+------------------------+--------------------------+-------------------------+-----------------------------+-----------------------------+-----------------------------+-----------------------------+-----------------------------+------------+--------------------+--------------------+-------------------+-------------------+-------------------+\n",
      "|             |09/11/2021|      2:39|     null|    null|     null|      null|                null|WHITESTONE EXPRES...|           20 AVENUE|                null|                        2|                       0|                            0|                           0|                        0|                       0|                         2|                        0|         Aggressive Drivin...|                  Unspecified|                         null|                         null|                         null|     4455765|               Sedan|               Sedan|               null|               null|               null|\n",
      "|             |03/26/2022|     11:45|     null|    null|     null|      null|                null|QUEENSBORO BRIDGE...|                null|                null|                        1|                       0|                            0|                           0|                        0|                       0|                         1|                        0|            Pavement Slippery|                         null|                         null|                         null|                         null|     4513547|               Sedan|                null|               null|               null|               null|\n",
      "|             |06/29/2022|      6:55|     null|    null|     null|      null|                null|  THROGS NECK BRIDGE|                null|                null|                        0|                       0|                            0|                           0|                        0|                       0|                         0|                        0|         Following Too Clo...|                  Unspecified|                         null|                         null|                         null|     4541903|               Sedan|       Pick-up Truck|               null|               null|               null|\n",
      "|     BROOKLYN|09/11/2021|      9:35| BROOKLYN|   11208|40.667202|  -73.8665|(40.667202, -73.8...|                null|                null|1211      LORING ...|                        0|                       0|                            0|                           0|                        0|                       0|                         0|                        0|                  Unspecified|                         null|                         null|                         null|                         null|     4456314|               Sedan|                null|               null|               null|               null|\n",
      "|     BROOKLYN|12/14/2021|      8:13| BROOKLYN|   11233|40.683304|-73.917274|(40.683304, -73.9...|     SARATOGA AVENUE|      DECATUR STREET|                null|                        0|                       0|                            0|                           0|                        0|                       0|                         0|                        0|                         null|                         null|                         null|                         null|                         null|     4486609|                null|                null|               null|               null|               null|\n",
      "|             |04/14/2021|     12:47|     null|    null|     null|      null|                null|MAJOR DEEGAN EXPR...|                null|                null|                        0|                       0|                            0|                           0|                        0|                       0|                         0|                        0|                  Unspecified|                  Unspecified|                         null|                         null|                         null|     4407458|                Dump|               Sedan|               null|               null|               null|\n",
      "|STATEN ISLAND|12/14/2021|     17:05|     null|    null|40.709183|-73.956825|(40.709183, -73.9...|BROOKLYN QUEENS E...|                null|                null|                        0|                       0|                            0|                           0|                        0|                       0|                         0|                        0|          Passing Too Closely|                  Unspecified|                         null|                         null|                         null|     4486555|               Sedan|Tractor Truck Diesel|               null|               null|               null|\n",
      "|        BRONX|12/14/2021|      8:17|    BRONX|   10475| 40.86816| -73.83148|(40.86816, -73.83...|                null|                null|344       BAYCHES...|                        2|                       0|                            0|                           0|                        0|                       0|                         2|                        0|                  Unspecified|                  Unspecified|                         null|                         null|                         null|     4486660|               Sedan|               Sedan|               null|               null|               null|\n",
      "|     BROOKLYN|12/14/2021|     21:10| BROOKLYN|   11207| 40.67172|  -73.8971|(40.67172, -73.8971)|                null|                null|2047      PITKIN ...|                        0|                       0|                            0|                           0|                        0|                       0|                         0|                        0|          Driver Inexperience|                  Unspecified|                         null|                         null|                         null|     4487074|               Sedan|                null|               null|               null|               null|\n",
      "|    MANHATTAN|12/14/2021|     14:58|MANHATTAN|   10017| 40.75144| -73.97397|(40.75144, -73.97...|            3 AVENUE|      EAST 43 STREET|                null|                        0|                       0|                            0|                           0|                        0|                       0|                         0|                        0|          Passing Too Closely|                  Unspecified|                         null|                         null|                         null|     4486519|               Sedan|Station Wagon/Spo...|               null|               null|               null|\n",
      "|    MANHATTAN|12/13/2021|      0:34|     null|    null|40.701275| -73.88887|(40.701275, -73.8...|       MYRTLE AVENUE|                null|                null|                        0|                       0|                            0|                           0|                        0|                       0|                         0|                        0|         Passing or Lane U...|                  Unspecified|                         null|                         null|                         null|     4486934|Station Wagon/Spo...|                null|               null|               null|               null|\n",
      "|       QUEENS|12/14/2021|     16:50|   QUEENS|   11413|40.675884| -73.75577|(40.675884, -73.7...|SPRINGFIELD BOULE...|     EAST GATE PLAZA|                null|                        0|                       0|                            0|                           0|                        0|                       0|                         0|                        0|           Turning Improperly|                  Unspecified|                         null|                         null|                         null|     4487127|               Sedan|Station Wagon/Spo...|               null|               null|               null|\n",
      "|             |12/14/2021|      8:30|     null|    null|     null|      null|                null|            broadway|west 80 street -w...|                null|                        0|                       0|                            0|                           0|                        0|                       0|                         0|                        0|         Unsafe Lane Changing|                  Unspecified|                         null|                         null|                         null|     4486634|Station Wagon/Spo...|               Sedan|               null|               null|               null|\n",
      "|STATEN ISLAND|12/14/2021|      0:59|     null|    null| 40.59662| -74.00231|(40.59662, -74.00...|        BELT PARKWAY|                null|                null|                        0|                       0|                            0|                           0|                        0|                       0|                         0|                        0|                 Unsafe Speed|                         null|                         null|                         null|                         null|     4486564|               Sedan|                null|               null|               null|               null|\n",
      "|       QUEENS|12/14/2021|     23:10|   QUEENS|   11434| 40.66684| -73.78941|(40.66684, -73.78...|NORTH CONDUIT AVENUE|          150 STREET|                null|                        2|                       0|                            0|                           0|                        0|                       0|                         2|                        0|         Reaction to Uninv...|                  Unspecified|                         null|                         null|                         null|     4486635|               Sedan|               Sedan|               null|               null|               null|\n",
      "|     BROOKLYN|12/14/2021|     17:58| BROOKLYN|   11217| 40.68158| -73.97463|(40.68158, -73.97...|                null|                null|480       DEAN ST...|                        0|                       0|                            0|                           0|                        0|                       0|                         0|                        0|          Passing Too Closely|                  Unspecified|                         null|                         null|                         null|     4486604|              Tanker|Station Wagon/Spo...|               null|               null|               null|\n",
      "|     BROOKLYN|12/14/2021|     20:03| BROOKLYN|   11226| 40.65068| -73.95881|(40.65068, -73.95...|                null|                null|878       FLATBUS...|                        4|                       0|                            0|                           0|                        0|                       0|                         4|                        0|             Steering Failure|                         null|                         null|                         null|                         null|     4486991|               Sedan|                null|               null|               null|               null|\n",
      "|             |12/14/2021|      1:28|     null|    null|     null|      null|                null|       MEEKER AVENUE|      LORIMER STREET|                null|                        3|                       0|                            0|                           0|                        0|                       0|                         3|                        0|         Traffic Control D...|                  Unspecified|                         null|                         null|                         null|     4486284|Station Wagon/Spo...|Station Wagon/Spo...|               null|               null|               null|\n",
      "|        BRONX|12/11/2021|     19:43|    BRONX|   10463| 40.87262|-73.904686|(40.87262, -73.90...|WEST KINGSBRIDGE ...|        HEATH AVENUE|                null|                        1|                       0|                            0|                           0|                        0|                       0|                         1|                        0|                  Unspecified|                  Unspecified|                         null|                         null|                         null|     4487040|Station Wagon/Spo...|               Sedan|               null|               null|               null|\n",
      "|    MANHATTAN|12/14/2021|     14:30|     null|    null|40.783268| -73.82485|(40.783268, -73.8...|WHITESTONE EXPRES...|                null|                null|                        0|                       0|                            0|                           0|                        0|                       0|                         0|                        0|         Following Too Clo...|                  Unspecified|                  Unspecified|                         null|                         null|     4486537|Station Wagon/Spo...|               Sedan|              Sedan|               null|               null|\n",
      "+-------------+----------+----------+---------+--------+---------+----------+--------------------+--------------------+--------------------+--------------------+-------------------------+------------------------+-----------------------------+----------------------------+-------------------------+------------------------+--------------------------+-------------------------+-----------------------------+-----------------------------+-----------------------------+-----------------------------+-----------------------------+------------+--------------------+--------------------+-------------------+-------------------+-------------------+\n",
      "only showing top 20 rows\n",
      "\n"
     ]
    }
   ],
   "source": [
    "null_modified_df.show()"
   ]
  },
  {
   "cell_type": "code",
   "execution_count": 15,
   "metadata": {},
   "outputs": [],
   "source": [
    "test_query = \"SELECT COUNT(*) from testData where B1 is null\""
   ]
  },
  {
   "cell_type": "code",
   "execution_count": 16,
   "metadata": {},
   "outputs": [
    {
     "name": "stdout",
     "output_type": "stream",
     "text": [
      "+--------+\n",
      "|count(1)|\n",
      "+--------+\n",
      "|       0|\n",
      "+--------+\n",
      "\n"
     ]
    }
   ],
   "source": [
    "null_modified_df.createOrReplaceTempView(\"testData\")\n",
    "test_df = spark.sql(test_query)\n",
    "test_df.show()"
   ]
  },
  {
   "cell_type": "code",
   "execution_count": null,
   "metadata": {},
   "outputs": [],
   "source": [
    "null_modified_df.repartition(1).write.format('csv').options(header='true').save(\"borough_no_null\")"
   ]
  },
  {
   "cell_type": "code",
   "execution_count": null,
   "metadata": {},
   "outputs": [],
   "source": []
  }
 ],
 "metadata": {
  "kernelspec": {
   "display_name": "Python 3",
   "language": "python",
   "name": "python3"
  },
  "language_info": {
   "codemirror_mode": {
    "name": "ipython",
    "version": 3
   },
   "file_extension": ".py",
   "mimetype": "text/x-python",
   "name": "python",
   "nbconvert_exporter": "python",
   "pygments_lexer": "ipython3",
   "version": "3.8.3"
  }
 },
 "nbformat": 4,
 "nbformat_minor": 4
}
