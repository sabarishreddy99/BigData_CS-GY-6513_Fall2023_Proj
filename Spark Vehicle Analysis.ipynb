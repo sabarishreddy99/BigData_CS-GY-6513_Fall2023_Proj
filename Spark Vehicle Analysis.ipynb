{
 "cells": [
  {
   "cell_type": "code",
   "execution_count": 1,
   "metadata": {},
   "outputs": [],
   "source": [
    "from pyspark.sql import SparkSession, Row\n",
    "from pyspark import SparkConf, SparkContext\n",
    "import os\n",
    "import pandas as pd\n",
    "#os.environ['SPARK_HOME']=\"C:/Users/321ni/spark-2.4.3-bin-hadoop2.7/\"\n",
    "os.environ['PYSPARK_DRIVER_PYTHON']='jupyter'\n",
    "#os.environ['PYSPARK_DRIVER_PYTHON_OPS']='lab'\n",
    "os.environ['PYSPARK_PYTHON']='python'\n",
    "from pyspark.sql.types import StructType, StructField, StringType, IntegerType"
   ]
  },
  {
   "cell_type": "code",
   "execution_count": 2,
   "metadata": {},
   "outputs": [
    {
     "data": {
      "text/plain": [
       "'C:\\\\Users\\\\321ni\\\\spark-3.5.0-bin-hadoop3'"
      ]
     },
     "execution_count": 2,
     "metadata": {},
     "output_type": "execute_result"
    }
   ],
   "source": [
    "import findspark\n",
    "#findspark.init(\"C:/Users/321ni/spark-2.4.3-bin-hadoop2.7/\")\n",
    "findspark.find()"
   ]
  },
  {
   "cell_type": "code",
   "execution_count": 3,
   "metadata": {},
   "outputs": [],
   "source": [
    "spark = SparkSession.builder.master(\"local[*]\").config(\"spark.driver.memory\", \"4g\").appName(\"sparkan\").getOrCreate()"
   ]
  },
  {
   "cell_type": "code",
   "execution_count": 4,
   "metadata": {},
   "outputs": [],
   "source": [
    "mvcdata2 = spark.read.format('csv').options(header='true',inferschema='true').load(\"vehicle.csv\")\n",
    "#mvcdata2.show()"
   ]
  },
  {
   "cell_type": "code",
   "execution_count": 5,
   "metadata": {
    "scrolled": true
   },
   "outputs": [
    {
     "name": "stdout",
     "output_type": "stream",
     "text": [
      "+---------+------------+----------+-------------------+--------------------+------------------+--------------------+--------------+-------------+------------+----------------+-----------------+----------+---------------------+---------------------------+--------------------+--------------------+--------------------+--------------------+------------------+----------------+----------------------+---------------------------+---------------------+---------------------+\n",
      "|UNIQUE_ID|COLLISION_ID|CRASH_DATE|         CRASH_TIME|          VEHICLE_ID|STATE_REGISTRATION|        VEHICLE_TYPE|  VEHICLE_MAKE|VEHICLE_MODEL|VEHICLE_YEAR|TRAVEL_DIRECTION|VEHICLE_OCCUPANTS|DRIVER_SEX|DRIVER_LICENSE_STATUS|DRIVER_LICENSE_JURISDICTION|           PRE_CRASH|     POINT_OF_IMPACT|      VEHICLE_DAMAGE|    VEHICLE_DAMAGE_1|  VEHICLE_DAMAGE_2|VEHICLE_DAMAGE_3|PUBLIC_PROPERTY_DAMAGE|PUBLIC_PROPERTY_DAMAGE_TYPE|CONTRIBUTING_FACTOR_1|CONTRIBUTING_FACTOR_2|\n",
      "+---------+------------+----------+-------------------+--------------------+------------------+--------------------+--------------+-------------+------------+----------------+-----------------+----------+---------------------+---------------------------+--------------------+--------------------+--------------------+--------------------+------------------+----------------+----------------------+---------------------------+---------------------+---------------------+\n",
      "| 10385780|      100201|09/07/2012|2023-12-09 09:03:00|                   1|                NY|   PASSENGER VEHICLE|          NULL|         NULL|        NULL|            NULL|             NULL|      NULL|                 NULL|                       NULL|                NULL|                NULL|                NULL|                NULL|              NULL|            NULL|                  NULL|                       NULL|          Unspecified|                 NULL|\n",
      "| 19140702|     4213082|09/23/2019|2023-12-09 08:15:00|0553ab4d-9500-4cb...|                NY|Station Wagon/Spo...| TOYT -CAR/SUV|         NULL|        2002|           North|                1|         M|             Licensed|                         NY|Going Straight Ahead|   Left Front Bumper|Left Front Quarte...|                NULL|              NULL|            NULL|                     N|                       NULL| Driver Inattentio...|          Unspecified|\n",
      "| 14887647|     3307608|10/02/2015|2023-12-09 17:18:00|                   2|                NY|                TAXI|          NULL|         NULL|        NULL|            NULL|             NULL|      NULL|                 NULL|                       NULL|Going Straight Ahead|                NULL|                NULL|                NULL|              NULL|            NULL|                  NULL|                       NULL| Driver Inattentio...|                 NULL|\n",
      "| 14889754|     3308693|10/04/2015|2023-12-09 20:34:00|                   1|                NY|   PASSENGER VEHICLE|          NULL|         NULL|        NULL|            NULL|             NULL|      NULL|                 NULL|                       NULL|              Parked|                NULL|                NULL|                NULL|              NULL|            NULL|                  NULL|                       NULL|          Unspecified|                 NULL|\n",
      "| 14400270|      297666|04/25/2013|2023-12-09 21:15:00|                   1|                NY|   PASSENGER VEHICLE|          NULL|         NULL|        NULL|            NULL|             NULL|      NULL|                 NULL|                       NULL|                NULL|                NULL|                NULL|                NULL|              NULL|            NULL|                  NULL|                       NULL|      Other Vehicular|                 NULL|\n",
      "| 17044639|     3434155|05/02/2016|2023-12-09 17:35:00|              219456|                NY|          4 dr sedan| MERZ -CAR/SUV|         NULL|        2015|            East|                2|         M|             Licensed|                         FL|             Merging|  Right Front Bumper|  Right Front Bumper|Right Front Quart...|              NULL|            NULL|                     N|                       NULL| Driver Inattentio...| Unsafe Lane Changing|\n",
      "| 19138701|     4229067|10/24/2019|2023-12-09 13:15:00|c53b43d9-419a-4ab...|                NY|                 Bus|FRHT-TRUCK/BUS|         NULL|        2006|            East|               13|         M|             Licensed|                         NY|              Parked|Left Front Quarte...|Left Front Quarte...|                NULL|              NULL|            NULL|                     N|                       NULL|          Unspecified|          Unspecified|\n",
      "| 17303317|     3503027|08/18/2016|2023-12-09 12:39:00|              672828|                NY|Station Wagon/Spo...| FORD -CAR/SUV|         NULL|        2005|       Southwest|                2|         F|             Licensed|                         NY|Going Straight Ahead|    Center Front End|    Center Front End|           No Damage|         No Damage|       No Damage|                     N|                       NULL| Driver Inattentio...|          Unspecified|\n",
      "| 12254536|      196425|07/16/2013|2023-12-09 11:20:00|                   1|                NY|   PASSENGER VEHICLE|          NULL|         NULL|        NULL|            NULL|             NULL|      NULL|                 NULL|                       NULL|                NULL|                NULL|                NULL|                NULL|              NULL|            NULL|                  NULL|                       NULL|          Unspecified|                 NULL|\n",
      "| 11804847|     2975897|11/26/2012|2023-12-09 18:12:00|                   2|                NY|   PASSENGER VEHICLE|          NULL|         NULL|        NULL|            NULL|             NULL|      NULL|                 NULL|                       NULL|                NULL|                NULL|                NULL|                NULL|              NULL|            NULL|                  NULL|                       NULL| Driver Inattentio...|                 NULL|\n",
      "| 17285715|     3487936|07/22/2016|2023-12-09 15:40:00|              554272|                NY|         Convertible| VOLK -CAR/SUV|         NULL|        2013|           South|                1|         M|             Licensed|                         NY|  Stopped in Traffic|   Right Rear Bumper|   Right Rear Bumper|     Center Back End|  Left Rear Bumper|            NULL|                     N|                       NULL|          Unspecified|          Unspecified|\n",
      "| 14809587|     3268858|08/01/2015|2023-12-09 08:17:00|                   2|                NJ|   PASSENGER VEHICLE|          NULL|         NULL|        NULL|            NULL|             NULL|      NULL|                 NULL|                       NULL|Going Straight Ahead|                NULL|                NULL|                NULL|              NULL|            NULL|                  NULL|                       NULL| Passenger Distrac...|                 NULL|\n",
      "| 17307366|     3499697|08/13/2016|2023-12-09 21:05:00|              650962|                NY|               Sedan| NISS -CAR/SUV|         NULL|        2015|            West|                2|         F|             Licensed|                         NY|Going Straight Ahead|     Left Side Doors|     Left Side Doors|Left Rear Quarter...|              NULL|            NULL|                     N|                       NULL|          Unspecified|          Unspecified|\n",
      "| 19140791|     4229563|10/21/2019|2023-12-09 17:55:00|86a294b4-6672-4a7...|                PA|               Sedan|  BMW -CAR/SUV|         NULL|        2006|           North|                2|         F|             Licensed|                         PA|Going Straight Ahead|    Center Front End|  Right Front Bumper|Right Front Quart...|Right Front Bumper|            NULL|                     N|                       NULL|          Unspecified|          Unspecified|\n",
      "| 19694316|     4322767|06/06/2020|2023-12-09 18:30:00|fdc195a7-8127-4c0...|              NULL|                Bike|          NULL|         NULL|        NULL|           South|                1|         M|             Licensed|                         NY|Going Straight Ahead|    Center Front End|           No Damage|           No Damage|         No Damage|       No Damage|                     N|                       NULL| Traffic Control D...|          Unspecified|\n",
      "| 11912713|      176016|08/11/2012|2023-12-09 19:36:00|                   2|                NY|             BICYCLE|          NULL|         NULL|        NULL|            NULL|             NULL|      NULL|                 NULL|                       NULL|                NULL|                NULL|                NULL|                NULL|              NULL|            NULL|                  NULL|                       NULL|          Unspecified|                 NULL|\n",
      "| 17401424|     3516125|09/08/2016|2023-12-09 14:40:00|              764668|                NY|Station Wagon/Spo...| LINC -CAR/SUV|         NULL|        2015|            West|                1|         M|             Licensed|                         NY|  Stopped in Traffic|Right Rear Quarte...|Right Rear Quarte...|   Right Rear Bumper|         No Damage|       No Damage|                     N|                       NULL|          Unspecified|          Unspecified|\n",
      "|  9879462|       79561|04/09/2013|2023-12-09 15:10:00|                   1|                NY|   PASSENGER VEHICLE|          NULL|         NULL|        NULL|            NULL|             NULL|      NULL|                 NULL|                       NULL|                NULL|                NULL|                NULL|                NULL|              NULL|            NULL|                  NULL|                       NULL|          Unspecified|                 NULL|\n",
      "| 16952374|     3412270|04/01/2016|2023-12-09 15:46:00|               87497|                NY|Station Wagon/Spo...| TOYT -CAR/SUV|     TOYT 4RN|        2015|           South|                1|         M|                 NULL|                       NULL|             Passing|Right Front Quart...|           No Damage|           No Damage|         No Damage|       No Damage|                     N|                       NULL| Unsafe Lane Changing| Traffic Control D...|\n",
      "| 19140656|     4229538|10/24/2019|2023-12-09 17:30:00|70e5262a-bd27-48a...|                NY|Station Wagon/Spo...| JEEP -CAR/SUV|         NULL|        2018|           North|                3|         F|             Licensed|                         NY|Going Straight Ahead|Left Rear Quarter...|Left Rear Quarter...|                NULL|              NULL|            NULL|                     N|                       NULL|          Unspecified|          Unspecified|\n",
      "+---------+------------+----------+-------------------+--------------------+------------------+--------------------+--------------+-------------+------------+----------------+-----------------+----------+---------------------+---------------------------+--------------------+--------------------+--------------------+--------------------+------------------+----------------+----------------------+---------------------------+---------------------+---------------------+\n",
      "only showing top 20 rows\n",
      "\n"
     ]
    }
   ],
   "source": [
    "mvcdata2.show()"
   ]
  },
  {
   "cell_type": "code",
   "execution_count": 6,
   "metadata": {},
   "outputs": [],
   "source": [
    "mvcdata2.createOrReplaceTempView(\"vData\")"
   ]
  },
  {
   "cell_type": "code",
   "execution_count": 7,
   "metadata": {},
   "outputs": [
    {
     "data": {
      "text/plain": [
       "3704406"
      ]
     },
     "execution_count": 7,
     "metadata": {},
     "output_type": "execute_result"
    }
   ],
   "source": [
    "mvcdata2.count()"
   ]
  },
  {
   "cell_type": "markdown",
   "metadata": {},
   "source": [
    "## Grouping Vehicles as Large, Medium and Small"
   ]
  },
  {
   "cell_type": "code",
   "execution_count": 8,
   "metadata": {},
   "outputs": [],
   "source": [
    "def vehicle_classifier(row):\n",
    "    \n",
    "    formatted_row = ','.join([key if type(key)==str else str(key) for key in row])\n",
    "    \n",
    "    if \"bus\" in formatted_row.lower() or \"truck\" in formatted_row.lower() or \"freig\" in formatted_row.lower() \\\n",
    "    or \"ceme\" in formatted_row.lower() or \"fire\" in formatted_row.lower() or \"000\" == formatted_row.lower()\\\n",
    "    or \"concrete mixer\" in formatted_row.lower() or \"com\" in formatted_row.lower() or \"crane\" in formatted_row.lower()\\\n",
    "    or \"frieg\" in formatted_row.lower() or \"fdny\" in formatted_row.lower() or \"fedex\" in formatted_row.lower()\\\n",
    "    or \"dump\" in formatted_row.lower() or \"deli\" in formatted_row.lower() or \"exca\" in formatted_row.lower()\\\n",
    "    or \"flat\" in formatted_row.lower() or \"gar\" in formatted_row.lower() or \"lift boom\" in formatted_row.lower()\\\n",
    "    or \"mini schoo\" in formatted_row.lower() or \"omnib\" in formatted_row.lower() or \"power\" in formatted_row.lower()\\\n",
    "    or \"ic corporation\" in formatted_row.lower() or \"schoo\" in formatted_row.lower() or \"r/v\" in formatted_row.lower()or\\\n",
    "    \"rv\" in formatted_row.lower() or \"multi-wh\" in formatted_row.lower() or \"mta\" in formatted_row.lower() or \"mack\" in\\\n",
    "    formatted_row.lower() or \"sanit\" in formatted_row.lower() or (\"snow\" in formatted_row.lower() and \"snowm\" \\\n",
    "    not in formatted_row.lower()) or \"tank\" in formatted_row.lower() or \"lunch wagon\" in formatted_row.lower()\\\n",
    "    or \"trail\" in formatted_row.lower() or \"const\" in formatted_row.lower() or \"cat\" in formatted_row.lower() or\\\n",
    "    \"trlr\" in formatted_row.lower() or \"winne\" in formatted_row.lower():\n",
    "        return row + Row(VEHICLE_GROUP = \"Heavy\")\n",
    "    elif \"van\" in formatted_row.lower() or \"fleet\" in formatted_row.lower() or \"usps\" in formatted_row.lower() \\\n",
    "    or \"am\" in formatted_row.lower() or ('4' in formatted_row.lower() and 'wh' in formatted_row.lower())\\\n",
    "    or \"chassis\" in formatted_row.lower() or \"carry all\" in formatted_row.lower() or \"limo\" in formatted_row.lower() or\\\n",
    "    \"miniv\" in formatted_row.lower() or \"open body\" in formatted_row.lower() or \"pick\" in formatted_row.lower() or\\\n",
    "    \"pk\" in formatted_row.lower() or \"post\" in formatted_row.lower() or \"courier\" in formatted_row.lower() or \\\n",
    "    \"mail\" in formatted_row.lower() or (\"nypd\" in formatted_row.lower() and \"tow\" in formatted_row.lower()) \\\n",
    "    or \"sub\" in formatted_row.lower() or \"stak\" in formatted_row.lower() or \"stree\" in formatted_row.lower() or \"sw\"\\\n",
    "    in formatted_row.lower() or \"tow\" in formatted_row.lower() or \"trac\" in formatted_row.lower() or \"sprin\" in \\\n",
    "    formatted_row.lower() or \"luv\" in formatted_row.lower() or \"gmc\" in formatted_row.lower() or \"lives\"\\\n",
    "    in formatted_row.lower() or \"almbulance\" in formatted_row.lower() or \"uti\" in formatted_row.lower() or \"yello\"\\\n",
    "    in formatted_row.lower() or \" yw po\" == formatted_row.lower() or\\\n",
    "    (\"u\" in formatted_row.lower() and \"ha\" in formatted_row.lower()) or \"ups\" in formatted_row.lower() or \\\n",
    "    \"utl\" in formatted_row.lower():\n",
    "        return row + Row(VEHICLE_GROUP = \"Medium\")\n",
    "    elif \"sed\" in formatted_row.lower() or \"car\" in formatted_row.lower() or \"0\" == formatted_row.lower() or \\\n",
    "    ('3' in formatted_row.lower() and 'wh' in formatted_row.lower()) or \"convertible\" in formatted_row.lower()\\\n",
    "    or \"delv\" in formatted_row.lower() or \"mini\" in formatted_row.lower() or \"pas\" in formatted_row.lower()\\\n",
    "    or \"pc\" in formatted_row.lower() or (\"3\" in formatted_row.lower() and \"doo\" in formatted_row.lower())\\\n",
    "    or (\"2\" in formatted_row.lower() and \"doo\" in formatted_row.lower()) or (\"nypd\" in formatted_row.lower()\\\n",
    "    and \"tow\" not in formatted_row.lower()) or \"station wa\" in formatted_row.lower() or \"suv\" in formatted_row.lower()\\\n",
    "    or \"taxi\" in formatted_row.lower() or \"wagon\" in formatted_row.lower():\n",
    "        return row + Row(VEHICLE_GROUP = \"Light\")\n",
    "    elif \"bicycle\" in formatted_row.lower() or \"bik\" in formatted_row.lower() or \"mope\" in formatted_row.lower()\\\n",
    "    or \"dirt\" in formatted_row.lower() or \"sco\" in formatted_row.lower() or \"fork\" in formatted_row.lower() or \\\n",
    "    \"dolly\" in formatted_row.lower() or \"motor\" in formatted_row.lower() or \\\n",
    "    (\"mo\" in formatted_row.lower() and \"p\" in formatted_row.lower()) or (\"2\" in formatted_row.lower() and \"wh\" in\\\n",
    "    formatted_row.lower()) or \"pallet\" in formatted_row.lower() or \"pedicab\" in formatted_row.lower():\n",
    "        return row + Row(VEHICLE_GROUP = \"Small\")\n",
    "    elif \"n/a\" in formatted_row.lower() or \"na\" in formatted_row.lower() or \"other\" in formatted_row.lower() or\\\n",
    "    \"unk\" in formatted_row.lower() or \"ukn\" in formatted_row.lower():\n",
    "        return row + Row(VEHICLE_GROUP = \"Other\")\n",
    "    else:\n",
    "        return row + Row(VEHICLE_GROUP = \"Unspecified\")"
   ]
  },
  {
   "cell_type": "code",
   "execution_count": 9,
   "metadata": {},
   "outputs": [],
   "source": [
    "vehicle_types_sql = \"SELECT COLLISION_ID,VEHICLE_TYPE,VEHICLE_MAKE FROM vData WHERE VEHICLE_TYPE NOT LIKE 'NULL' OR VEHICLE_MAKE NOT LIKE 'NULL' ORDER BY COLLISION_ID\""
   ]
  },
  {
   "cell_type": "code",
   "execution_count": 10,
   "metadata": {},
   "outputs": [],
   "source": [
    "vehicle_types_df = spark.sql(vehicle_types_sql)"
   ]
  },
  {
   "cell_type": "code",
   "execution_count": 11,
   "metadata": {},
   "outputs": [
    {
     "data": {
      "text/plain": [
       "3541338"
      ]
     },
     "execution_count": 11,
     "metadata": {},
     "output_type": "execute_result"
    }
   ],
   "source": [
    "vehicle_types_df.count()"
   ]
  },
  {
   "cell_type": "code",
   "execution_count": 12,
   "metadata": {},
   "outputs": [],
   "source": [
    "vehicle_type_rdd = vehicle_types_df.rdd.map(vehicle_classifier).filter(lambda x: x is not None)\n",
    "\n",
    "schema = StructType([\n",
    "    StructField(\"COLLISION_ID\", IntegerType(), True),\n",
    "    StructField(\"VEHICLE_TYPE\", StringType(), True),\n",
    "    StructField(\"VEHICLE_MAKE\", StringType(), True),\n",
    "    StructField(\"VEHICLE_GROUP\", StringType(), True)\n",
    "])\n",
    "vehicle_type_df_final = spark.createDataFrame(vehicle_type_rdd,schema=schema)"
   ]
  },
  {
   "cell_type": "code",
   "execution_count": 13,
   "metadata": {},
   "outputs": [
    {
     "name": "stdout",
     "output_type": "stream",
     "text": [
      "+------------+--------------------+------------+-------------+\n",
      "|COLLISION_ID|        VEHICLE_TYPE|VEHICLE_MAKE|VEHICLE_GROUP|\n",
      "+------------+--------------------+------------+-------------+\n",
      "|          22|                 VAN|        NULL|       Medium|\n",
      "|          22|SPORT UTILITY / S...|        NULL|       Medium|\n",
      "|          23|                TAXI|        NULL|        Light|\n",
      "|          23|                TAXI|        NULL|        Light|\n",
      "|          24|                 BUS|        NULL|        Heavy|\n",
      "|          24|   PASSENGER VEHICLE|        NULL|        Light|\n",
      "|          25|   PASSENGER VEHICLE|        NULL|        Light|\n",
      "|          25|   PASSENGER VEHICLE|        NULL|        Light|\n",
      "|          26|   PASSENGER VEHICLE|        NULL|        Light|\n",
      "|          26|   PASSENGER VEHICLE|        NULL|        Light|\n",
      "|          27|                TAXI|        NULL|        Light|\n",
      "|          27|   PASSENGER VEHICLE|        NULL|        Light|\n",
      "|          28|                TAXI|        NULL|        Light|\n",
      "|          28|                TAXI|        NULL|        Light|\n",
      "|          29|   PASSENGER VEHICLE|        NULL|        Light|\n",
      "|          29|                TAXI|        NULL|        Light|\n",
      "|          30|                TAXI|        NULL|        Light|\n",
      "|          30|                 VAN|        NULL|       Medium|\n",
      "|          31|   PASSENGER VEHICLE|        NULL|        Light|\n",
      "|          31|             UNKNOWN|        NULL|        Other|\n",
      "|          32|             UNKNOWN|        NULL|        Other|\n",
      "|          32|SPORT UTILITY / S...|        NULL|       Medium|\n",
      "|          33|SMALL COM VEH(4 T...|        NULL|        Heavy|\n",
      "|          33|             UNKNOWN|        NULL|        Other|\n",
      "|          36|   PASSENGER VEHICLE|        NULL|        Light|\n",
      "|          36|SPORT UTILITY / S...|        NULL|       Medium|\n",
      "|          37|             BICYCLE|        NULL|        Small|\n",
      "|          37|   PASSENGER VEHICLE|        NULL|        Light|\n",
      "|          38|       PICK-UP TRUCK|        NULL|        Heavy|\n",
      "|          38|   PASSENGER VEHICLE|        NULL|        Light|\n",
      "|          39|             BICYCLE|        NULL|        Small|\n",
      "|          39|SPORT UTILITY / S...|        NULL|       Medium|\n",
      "|          40|                 VAN|        NULL|       Medium|\n",
      "|          40|             BICYCLE|        NULL|        Small|\n",
      "|          41|   PASSENGER VEHICLE|        NULL|        Light|\n",
      "|          41|               OTHER|        NULL|        Other|\n",
      "|          42|   PASSENGER VEHICLE|        NULL|        Light|\n",
      "|          42|SMALL COM VEH(4 T...|        NULL|        Heavy|\n",
      "|          43|               OTHER|        NULL|        Other|\n",
      "|          43|   PASSENGER VEHICLE|        NULL|        Light|\n",
      "|          44|   PASSENGER VEHICLE|        NULL|        Light|\n",
      "|          45|SPORT UTILITY / S...|        NULL|       Medium|\n",
      "|          45|   PASSENGER VEHICLE|        NULL|        Light|\n",
      "|          48|   PASSENGER VEHICLE|        NULL|        Light|\n",
      "|          48|               OTHER|        NULL|        Other|\n",
      "|          49|   PASSENGER VEHICLE|        NULL|        Light|\n",
      "|          49|   PASSENGER VEHICLE|        NULL|        Light|\n",
      "|          50|SPORT UTILITY / S...|        NULL|       Medium|\n",
      "|          50|SPORT UTILITY / S...|        NULL|       Medium|\n",
      "|          50|   PASSENGER VEHICLE|        NULL|        Light|\n",
      "|          51|      LIVERY VEHICLE|        NULL|  Unspecified|\n",
      "|          51|SMALL COM VEH(4 T...|        NULL|        Heavy|\n",
      "|          52|                TAXI|        NULL|        Light|\n",
      "|          52|             BICYCLE|        NULL|        Small|\n",
      "|          53|       PICK-UP TRUCK|        NULL|        Heavy|\n",
      "|          53|                 BUS|        NULL|        Heavy|\n",
      "|          54|SMALL COM VEH(4 T...|        NULL|        Heavy|\n",
      "|          54|SMALL COM VEH(4 T...|        NULL|        Heavy|\n",
      "|          55|   PASSENGER VEHICLE|        NULL|        Light|\n",
      "|          55|SPORT UTILITY / S...|        NULL|       Medium|\n",
      "|          55|   PASSENGER VEHICLE|        NULL|        Light|\n",
      "|          56|             UNKNOWN|        NULL|        Other|\n",
      "|          56|SPORT UTILITY / S...|        NULL|       Medium|\n",
      "|          57|   PASSENGER VEHICLE|        NULL|        Light|\n",
      "|          57|   PASSENGER VEHICLE|        NULL|        Light|\n",
      "|          58|SPORT UTILITY / S...|        NULL|       Medium|\n",
      "|          58|                 VAN|        NULL|       Medium|\n",
      "|          59|   PASSENGER VEHICLE|        NULL|        Light|\n",
      "|          59|   PASSENGER VEHICLE|        NULL|        Light|\n",
      "|          60|   PASSENGER VEHICLE|        NULL|        Light|\n",
      "|          60|   PASSENGER VEHICLE|        NULL|        Light|\n",
      "|          61|   PASSENGER VEHICLE|        NULL|        Light|\n",
      "|          61|SPORT UTILITY / S...|        NULL|       Medium|\n",
      "|          62|          MOTORCYCLE|        NULL|        Small|\n",
      "|          62|SPORT UTILITY / S...|        NULL|       Medium|\n",
      "|          63|                TAXI|        NULL|        Light|\n",
      "|          63|SPORT UTILITY / S...|        NULL|       Medium|\n",
      "|          64|      LIVERY VEHICLE|        NULL|  Unspecified|\n",
      "|          64|      LIVERY VEHICLE|        NULL|  Unspecified|\n",
      "|          65|SMALL COM VEH(4 T...|        NULL|        Heavy|\n",
      "|          65|SPORT UTILITY / S...|        NULL|       Medium|\n",
      "|          66|                 VAN|        NULL|       Medium|\n",
      "|          66|LARGE COM VEH(6 O...|        NULL|        Heavy|\n",
      "|          67|                 VAN|        NULL|       Medium|\n",
      "|          67|SPORT UTILITY / S...|        NULL|       Medium|\n",
      "|          68|   PASSENGER VEHICLE|        NULL|        Light|\n",
      "|          68|   PASSENGER VEHICLE|        NULL|        Light|\n",
      "|          69|   PASSENGER VEHICLE|        NULL|        Light|\n",
      "|          69|SPORT UTILITY / S...|        NULL|       Medium|\n",
      "|          70|      LIVERY VEHICLE|        NULL|  Unspecified|\n",
      "|          70|SPORT UTILITY / S...|        NULL|       Medium|\n",
      "|          71|             UNKNOWN|        NULL|        Other|\n",
      "|          71|   PASSENGER VEHICLE|        NULL|        Light|\n",
      "|          72|   PASSENGER VEHICLE|        NULL|        Light|\n",
      "|          72|                 BUS|        NULL|        Heavy|\n",
      "|          73|             UNKNOWN|        NULL|        Other|\n",
      "|          73|SPORT UTILITY / S...|        NULL|       Medium|\n",
      "|          74|             UNKNOWN|        NULL|        Other|\n",
      "|          74|   PASSENGER VEHICLE|        NULL|        Light|\n",
      "|          75|   PASSENGER VEHICLE|        NULL|        Light|\n",
      "|          75|SPORT UTILITY / S...|        NULL|       Medium|\n",
      "|          76|                TAXI|        NULL|        Light|\n",
      "|          76|SPORT UTILITY / S...|        NULL|       Medium|\n",
      "|          77|   PASSENGER VEHICLE|        NULL|        Light|\n",
      "|          77|       PICK-UP TRUCK|        NULL|        Heavy|\n",
      "|          78|SMALL COM VEH(4 T...|        NULL|        Heavy|\n",
      "|          79|SPORT UTILITY / S...|        NULL|       Medium|\n",
      "|          80|SPORT UTILITY / S...|        NULL|       Medium|\n",
      "|          80|SPORT UTILITY / S...|        NULL|       Medium|\n",
      "|          81|   PASSENGER VEHICLE|        NULL|        Light|\n",
      "|          81|   PASSENGER VEHICLE|        NULL|        Light|\n",
      "|          82|   PASSENGER VEHICLE|        NULL|        Light|\n",
      "|          82|   PASSENGER VEHICLE|        NULL|        Light|\n",
      "|          83|   PASSENGER VEHICLE|        NULL|        Light|\n",
      "|          83|   PASSENGER VEHICLE|        NULL|        Light|\n",
      "|          84|   PASSENGER VEHICLE|        NULL|        Light|\n",
      "|          84|   PASSENGER VEHICLE|        NULL|        Light|\n",
      "|          85|SPORT UTILITY / S...|        NULL|       Medium|\n",
      "|          85|   PASSENGER VEHICLE|        NULL|        Light|\n",
      "|          86|SMALL COM VEH(4 T...|        NULL|        Heavy|\n",
      "|          86|                 BUS|        NULL|        Heavy|\n",
      "|          87|SPORT UTILITY / S...|        NULL|       Medium|\n",
      "|          87|   PASSENGER VEHICLE|        NULL|        Light|\n",
      "|          88|SPORT UTILITY / S...|        NULL|       Medium|\n",
      "|          88|                TAXI|        NULL|        Light|\n",
      "|          89|SPORT UTILITY / S...|        NULL|       Medium|\n",
      "|          89|                TAXI|        NULL|        Light|\n",
      "|          90|SPORT UTILITY / S...|        NULL|       Medium|\n",
      "|          90|   PASSENGER VEHICLE|        NULL|        Light|\n",
      "|          91|SPORT UTILITY / S...|        NULL|       Medium|\n",
      "|          91|SPORT UTILITY / S...|        NULL|       Medium|\n",
      "|          92|                 BUS|        NULL|        Heavy|\n",
      "|          92|   PASSENGER VEHICLE|        NULL|        Light|\n",
      "|          93|   PASSENGER VEHICLE|        NULL|        Light|\n",
      "|          93|             UNKNOWN|        NULL|        Other|\n",
      "|          94|      LIVERY VEHICLE|        NULL|  Unspecified|\n",
      "|          94|      LIVERY VEHICLE|        NULL|  Unspecified|\n",
      "|          95|   PASSENGER VEHICLE|        NULL|        Light|\n",
      "|          95|             UNKNOWN|        NULL|        Other|\n",
      "|          96|   PASSENGER VEHICLE|        NULL|        Light|\n",
      "|          96|                 BUS|        NULL|        Heavy|\n",
      "|          97|SMALL COM VEH(4 T...|        NULL|        Heavy|\n",
      "|          97|SPORT UTILITY / S...|        NULL|       Medium|\n",
      "|          98|SPORT UTILITY / S...|        NULL|       Medium|\n",
      "|          98|LARGE COM VEH(6 O...|        NULL|        Heavy|\n",
      "|          99|                 BUS|        NULL|        Heavy|\n",
      "|          99|      LIVERY VEHICLE|        NULL|  Unspecified|\n",
      "|         100|   PASSENGER VEHICLE|        NULL|        Light|\n",
      "|         100|   PASSENGER VEHICLE|        NULL|        Light|\n",
      "|         101|   PASSENGER VEHICLE|        NULL|        Light|\n",
      "+------------+--------------------+------------+-------------+\n",
      "only showing top 150 rows\n",
      "\n"
     ]
    }
   ],
   "source": [
    "vehicle_type_df_final.show(150)"
   ]
  },
  {
   "cell_type": "code",
   "execution_count": 14,
   "metadata": {},
   "outputs": [],
   "source": [
    "vehicle_type_df_final = vehicle_type_df_final.where(vehicle_type_df_final[\"VEHICLE_GROUP\"] != \"Unspecified\")"
   ]
  },
  {
   "cell_type": "code",
   "execution_count": 15,
   "metadata": {},
   "outputs": [],
   "source": [
    "vehicle_type_df_final.createOrReplaceTempView(\"vcData\")"
   ]
  },
  {
   "cell_type": "code",
   "execution_count": 16,
   "metadata": {},
   "outputs": [],
   "source": [
    "vehicle_collision_type_sql = \"\"\"\n",
    "SELECT\n",
    "  SUM(CASE UPPER(VEHICLE_GROUP) WHEN 'SMALL' THEN 1 ELSE 0 END) as small_count,\n",
    "  SUM(CASE UPPER(VEHICLE_GROUP) WHEN 'LIGHT' THEN 1 ELSE 0 END) as light_count,\n",
    "  SUM(CASE UPPER(VEHICLE_GROUP) WHEN 'MEDIUM' THEN 1 ELSE 0 END) as medium_count,\n",
    "  SUM(CASE UPPER(VEHICLE_GROUP) WHEN 'HEAVY' THEN 1 ELSE 0 END) as heavy_count,\n",
    "  SUM(CASE UPPER(VEHICLE_GROUP) WHEN 'OTHER' THEN 1 ELSE 0 END) as other_count,\n",
    "  COLLISION_ID\n",
    "FROM vcData\n",
    "GROUP BY COLLISION_ID;\n",
    "\"\"\""
   ]
  },
  {
   "cell_type": "code",
   "execution_count": 17,
   "metadata": {},
   "outputs": [],
   "source": [
    "vehicle_collision_type_df = spark.sql(vehicle_collision_type_sql)"
   ]
  },
  {
   "cell_type": "code",
   "execution_count": 18,
   "metadata": {},
   "outputs": [
    {
     "data": {
      "text/plain": [
       "1836239"
      ]
     },
     "execution_count": 18,
     "metadata": {},
     "output_type": "execute_result"
    }
   ],
   "source": [
    "vehicle_collision_type_df.count()"
   ]
  },
  {
   "cell_type": "code",
   "execution_count": 19,
   "metadata": {},
   "outputs": [
    {
     "name": "stdout",
     "output_type": "stream",
     "text": [
      "+-----------+-----------+------------+-----------+-----------+------------+\n",
      "|small_count|light_count|medium_count|heavy_count|other_count|COLLISION_ID|\n",
      "+-----------+-----------+------------+-----------+-----------+------------+\n",
      "|          0|          0|           0|          1|          0|         148|\n",
      "|          1|          1|           0|          0|          0|         463|\n",
      "|          0|          1|           1|          0|          0|         471|\n",
      "|          0|          1|           0|          1|          0|         496|\n",
      "|          0|          2|           0|          0|          0|         833|\n",
      "|          0|          1|           1|          0|          0|        1088|\n",
      "|          0|          1|           0|          0|          0|        1238|\n",
      "|          0|          0|           1|          0|          1|        1342|\n",
      "|          0|          1|           1|          0|          0|        1580|\n",
      "|          0|          0|           1|          0|          1|        1591|\n",
      "|          0|          0|           1|          0|          1|        1645|\n",
      "|          0|          1|           0|          1|          0|        1829|\n",
      "|          0|          2|           0|          0|          0|        1959|\n",
      "|          1|          0|           1|          0|          0|        2122|\n",
      "|          0|          1|           0|          0|          0|        2142|\n",
      "|          0|          2|           0|          0|          0|        2366|\n",
      "|          0|          0|           2|          0|          0|        2659|\n",
      "|          0|          0|           2|          0|          0|        2866|\n",
      "|          0|          2|           0|          1|          0|        3175|\n",
      "|          0|          1|           1|          0|          0|        3749|\n",
      "+-----------+-----------+------------+-----------+-----------+------------+\n",
      "only showing top 20 rows\n",
      "\n"
     ]
    }
   ],
   "source": [
    "vehicle_collision_type_df.show()"
   ]
  },
  {
   "cell_type": "code",
   "execution_count": 20,
   "metadata": {},
   "outputs": [],
   "source": [
    "def vehicle_collision_detector(row):\n",
    "    s = \"\"\n",
    "    st = \"\"\n",
    "    if row[0]>0:\n",
    "        s+=\"S\"*row[0]\n",
    "        st+=\"S\"\n",
    "    if row[1]>0:\n",
    "        s+=\"L\"*row[1]\n",
    "        st+=\"L\"\n",
    "    if row[2]>0:\n",
    "        s+=\"M\"*row[2]\n",
    "        st+=\"M\"\n",
    "    if row[3]>0:\n",
    "        s+=\"H\"*row[3]\n",
    "        st+=\"H\"\n",
    "    if row[4]>0:\n",
    "        s+=\"O\"*row[4]\n",
    "        st+=\"O\"\n",
    "    return row+Row(ACC_IN_BETWEEN = s)+Row(ACC_IN_BETWEEN_UNQ = st)"
   ]
  },
  {
   "cell_type": "code",
   "execution_count": 21,
   "metadata": {},
   "outputs": [
    {
     "data": {
      "text/plain": [
       "[(0, 0, 0, 1, 0, 148, 'H', 'H'),\n",
       " (1, 1, 0, 0, 0, 463, 'SL', 'SL'),\n",
       " (0, 1, 1, 0, 0, 471, 'LM', 'LM'),\n",
       " (0, 1, 0, 1, 0, 496, 'LH', 'LH'),\n",
       " (0, 2, 0, 0, 0, 833, 'LL', 'L')]"
      ]
     },
     "execution_count": 21,
     "metadata": {},
     "output_type": "execute_result"
    }
   ],
   "source": [
    "vehicle_collision_type_rdd = vehicle_collision_type_df.rdd.map(vehicle_collision_detector)\n",
    "vehicle_collision_type_rdd.take(5)"
   ]
  },
  {
   "cell_type": "code",
   "execution_count": 22,
   "metadata": {},
   "outputs": [],
   "source": [
    "schema = StructType([\n",
    "    StructField(\"small_count\", IntegerType(), True),\n",
    "    StructField(\"light_count\", IntegerType(), True),\n",
    "    StructField(\"medium_count\", IntegerType(), True),\n",
    "    StructField(\"heavy_count\", IntegerType(), True),\n",
    "    StructField(\"other_count\", IntegerType(), True),\n",
    "    StructField(\"COLLISION_ID\", IntegerType(), True),\n",
    "    StructField(\"ACC_IN_BETWEEN\", StringType(), True),\n",
    "    StructField(\"ACC_IN_BETWEEN_UNQ\", StringType(), True)\n",
    "])\n",
    "vehicle_collision_type_df_final = spark.createDataFrame(vehicle_collision_type_rdd,schema=schema)"
   ]
  },
  {
   "cell_type": "code",
   "execution_count": 23,
   "metadata": {},
   "outputs": [
    {
     "name": "stdout",
     "output_type": "stream",
     "text": [
      "+-----------+-----------+------------+-----------+-----------+------------+--------------+------------------+\n",
      "|small_count|light_count|medium_count|heavy_count|other_count|COLLISION_ID|ACC_IN_BETWEEN|ACC_IN_BETWEEN_UNQ|\n",
      "+-----------+-----------+------------+-----------+-----------+------------+--------------+------------------+\n",
      "|          0|          0|           0|          1|          0|         148|             H|                 H|\n",
      "|          1|          1|           0|          0|          0|         463|            SL|                SL|\n",
      "|          0|          1|           1|          0|          0|         471|            LM|                LM|\n",
      "|          0|          1|           0|          1|          0|         496|            LH|                LH|\n",
      "|          0|          2|           0|          0|          0|         833|            LL|                 L|\n",
      "|          0|          1|           1|          0|          0|        1088|            LM|                LM|\n",
      "|          0|          1|           0|          0|          0|        1238|             L|                 L|\n",
      "|          0|          0|           1|          0|          1|        1342|            MO|                MO|\n",
      "|          0|          1|           1|          0|          0|        1580|            LM|                LM|\n",
      "|          0|          0|           1|          0|          1|        1591|            MO|                MO|\n",
      "|          0|          0|           1|          0|          1|        1645|            MO|                MO|\n",
      "|          0|          1|           0|          1|          0|        1829|            LH|                LH|\n",
      "|          0|          2|           0|          0|          0|        1959|            LL|                 L|\n",
      "|          1|          0|           1|          0|          0|        2122|            SM|                SM|\n",
      "|          0|          1|           0|          0|          0|        2142|             L|                 L|\n",
      "|          0|          2|           0|          0|          0|        2366|            LL|                 L|\n",
      "|          0|          0|           2|          0|          0|        2659|            MM|                 M|\n",
      "|          0|          0|           2|          0|          0|        2866|            MM|                 M|\n",
      "|          0|          2|           0|          1|          0|        3175|           LLH|                LH|\n",
      "|          0|          1|           1|          0|          0|        3749|            LM|                LM|\n",
      "+-----------+-----------+------------+-----------+-----------+------------+--------------+------------------+\n",
      "only showing top 20 rows\n",
      "\n"
     ]
    }
   ],
   "source": [
    "vehicle_collision_type_df_final.show()"
   ]
  },
  {
   "cell_type": "code",
   "execution_count": 24,
   "metadata": {},
   "outputs": [],
   "source": [
    "vehicle_collision_type_df_final = vehicle_collision_type_df_final.groupBy(\"ACC_IN_BETWEEN_UNQ\").count().withColumnRenamed(\"count\",\"GROUPS\")"
   ]
  },
  {
   "cell_type": "code",
   "execution_count": 25,
   "metadata": {},
   "outputs": [
    {
     "data": {
      "text/plain": [
       "28"
      ]
     },
     "execution_count": 25,
     "metadata": {},
     "output_type": "execute_result"
    }
   ],
   "source": [
    "vehicle_collision_type_df_final.count()"
   ]
  },
  {
   "cell_type": "code",
   "execution_count": 26,
   "metadata": {},
   "outputs": [],
   "source": [
    "vehicle_collision_type_df_final_part1 = vehicle_collision_type_df_final.orderBy(\"GROUPS\").limit(19)\n",
    "vehicle_collision_type_df_final_part2 = vehicle_collision_type_df_final.orderBy(\"GROUPS\").\\\n",
    "subtract(vehicle_collision_type_df_final_part1).orderBy(\"GROUPS\").limit(10)"
   ]
  },
  {
   "cell_type": "code",
   "execution_count": 27,
   "metadata": {},
   "outputs": [
    {
     "name": "stdout",
     "output_type": "stream",
     "text": [
      "+------------------+------+\n",
      "|ACC_IN_BETWEEN_UNQ|GROUPS|\n",
      "+------------------+------+\n",
      "|               SHO|    10|\n",
      "|              SLMO|    17|\n",
      "|              SLMH|    24|\n",
      "|               SMO|    38|\n",
      "|              LMHO|    58|\n",
      "|               SLO|    91|\n",
      "|               SMH|   116|\n",
      "|               MHO|   173|\n",
      "|               SLH|   189|\n",
      "|               LHO|   328|\n",
      "|               SLM|   928|\n",
      "|                SO|  2840|\n",
      "|               LMO|  2907|\n",
      "|                SH|  3880|\n",
      "|                HO|  5461|\n",
      "|               LMH|  7451|\n",
      "|                 S| 11860|\n",
      "|                 O| 18625|\n",
      "|                SM| 22369|\n",
      "+------------------+------+\n",
      "\n"
     ]
    }
   ],
   "source": [
    "vehicle_collision_type_df_final_part1.show()"
   ]
  },
  {
   "cell_type": "code",
   "execution_count": 28,
   "metadata": {},
   "outputs": [
    {
     "name": "stdout",
     "output_type": "stream",
     "text": [
      "+------------------+------+\n",
      "|ACC_IN_BETWEEN_UNQ|GROUPS|\n",
      "+------------------+------+\n",
      "|                MO| 33492|\n",
      "|                SL| 39199|\n",
      "|                 H| 40299|\n",
      "|                LO| 78748|\n",
      "|                MH| 85437|\n",
      "|                LH|152135|\n",
      "|                 M|280592|\n",
      "|                LM|449335|\n",
      "|                 L|599637|\n",
      "+------------------+------+\n",
      "\n"
     ]
    }
   ],
   "source": [
    "vehicle_collision_type_df_final_part2.show()"
   ]
  },
  {
   "cell_type": "code",
   "execution_count": null,
   "metadata": {},
   "outputs": [],
   "source": [
    "vehicle_collision_type_df_final_pandas = vehicle_collision_type_df_final.toPandas()\n",
    "\n",
    "fig = px.pie(vehicle_collision_type_df_final_pandas, names=\"ACC_IN_BETWEEN_UNQ\", values=\"GROUPS\", title=\"Collisions\")\n",
    "fig.update_layout(height=800, width=800)\n",
    "fig.show()"
   ]
  },
  {
   "cell_type": "code",
   "execution_count": null,
   "metadata": {},
   "outputs": [],
   "source": [
    "vehicle_collision_type_df_final_part1_pandas = vehicle_collision_type_df_final_part1.toPandas()\n",
    "vehicle_collision_type_df_final_part2_pandas = vehicle_collision_type_df_final_part2.toPandas()\n",
    "\n",
    "\n",
    "\n",
    "fig = px.pie(vehicle_collision_type_df_final_part1_pandas, names=\"ACC_IN_BETWEEN_UNQ\", values=\"GROUPS\", title=\"Collisions\")\n",
    "fig.update_layout(height=800, width=800)\n",
    "fig.show()\n",
    "\n",
    "fig2 = px.pie(vehicle_collision_type_df_final_part2_pandas, names=\"ACC_IN_BETWEEN_UNQ\", values=\"GROUPS\", title=\"Collisions\")\n",
    "fig2.update_layout(height=800, width=800)\n",
    "fig2.show()"
   ]
  },
  {
   "cell_type": "code",
   "execution_count": null,
   "metadata": {},
   "outputs": [],
   "source": [
    "vehicle_groups_df = vehicle_type_df_final.groupBy(\"VEHICLE_GROUP\").count().withColumnRenamed(\"count\",\"ACCIDENTS\").orderBy(\"VEHICLE_GROUP\")\n",
    "vehicle_groups_df.show()"
   ]
  },
  {
   "cell_type": "code",
   "execution_count": null,
   "metadata": {},
   "outputs": [],
   "source": [
    "import plotly.express as px\n",
    "\n",
    "vehicle_group_pandas = vehicle_groups_df.toPandas()\n",
    "\n",
    "# Plot the data using Plotly Express\n",
    "fig = px.histogram(vehicle_group_pandas, x=\"VEHICLE_GROUP\", y=\"ACCIDENTS\", title=\"Vehicle Group vs Accidents\")\n",
    "fig.show()"
   ]
  },
  {
   "cell_type": "markdown",
   "metadata": {},
   "source": [
    "# Vehicle Manafucturing Year classification"
   ]
  },
  {
   "cell_type": "code",
   "execution_count": null,
   "metadata": {},
   "outputs": [],
   "source": [
    "yearly_vehicle_sql = \"SELECT VEHICLE_YEAR, COUNT(*) AS YEARLY_COUNT FROM vData WHERE VEHICLE_YEAR NOT LIKE 'NULL' \\\n",
    "AND VEHICLE_YEAR > '1111' AND VEHICLE_YEAR < '2025'\\\n",
    "GROUP BY VEHICLE_YEAR ORDER BY VEHICLE_YEAR\""
   ]
  },
  {
   "cell_type": "code",
   "execution_count": null,
   "metadata": {},
   "outputs": [],
   "source": [
    "yearly_vehicle_df = spark.sql(yearly_vehicle_sql)"
   ]
  },
  {
   "cell_type": "code",
   "execution_count": null,
   "metadata": {},
   "outputs": [],
   "source": [
    "yearly_vehicle_df.show()"
   ]
  },
  {
   "cell_type": "code",
   "execution_count": null,
   "metadata": {},
   "outputs": [],
   "source": [
    "vehicle_year_pandas = yearly_vehicle_df.toPandas()\n",
    "\n",
    "# Plot the data using Plotly Express\n",
    "fig = px.line(vehicle_year_pandas, x=\"VEHICLE_YEAR\", y=\"YEARLY_COUNT\", title=\"Vehicle Year vs Accidents\")\n",
    "fig.show()"
   ]
  },
  {
   "cell_type": "markdown",
   "metadata": {},
   "source": [
    "# Contributing Factor Analysis of Unlicensed Drivers"
   ]
  },
  {
   "cell_type": "code",
   "execution_count": null,
   "metadata": {},
   "outputs": [],
   "source": [
    "dl_status_sql = \"\"\"\n",
    "    SELECT CONTRIBUTING_FACTOR_1, COUNT(*) AS ACCIDENTS\n",
    "    FROM (\n",
    "    SELECT CONTRIBUTING_FACTOR_1, DRIVER_LICENSE_STATUS FROM vData WHERE DRIVER_LICENSE_STATUS LIKE 'Unlicensed'\n",
    "    )\n",
    "    WHERE CONTRIBUTING_FACTOR_1 NOT LIKE 'Unspecified'\n",
    "    GROUP BY CONTRIBUTING_FACTOR_1\n",
    "    ORDER BY CONTRIBUTING_FACTOR_1;\n",
    "\"\"\""
   ]
  },
  {
   "cell_type": "code",
   "execution_count": null,
   "metadata": {},
   "outputs": [],
   "source": [
    "dl_status_df = spark.sql(dl_status_sql).na.drop()\n",
    "dl_status_df.show(150)"
   ]
  },
  {
   "cell_type": "code",
   "execution_count": null,
   "metadata": {},
   "outputs": [],
   "source": [
    "dl_status_pandas = dl_status_df.toPandas()\n",
    "\n",
    "# Plot the data using Plotly Express\n",
    "fig = px.pie(dl_status_pandas, names=\"CONTRIBUTING_FACTOR_1\", values=\"ACCIDENTS\", title=\"Contributing Factors\")\n",
    "fig.update_layout(height=1000, width=1000)\n",
    "fig.show()"
   ]
  },
  {
   "cell_type": "code",
   "execution_count": null,
   "metadata": {},
   "outputs": [],
   "source": []
  }
 ],
 "metadata": {
  "kernelspec": {
   "display_name": "Python 3 (ipykernel)",
   "language": "python",
   "name": "python3"
  },
  "language_info": {
   "codemirror_mode": {
    "name": "ipython",
    "version": 3
   },
   "file_extension": ".py",
   "mimetype": "text/x-python",
   "name": "python",
   "nbconvert_exporter": "python",
   "pygments_lexer": "ipython3",
   "version": "3.9.13"
  }
 },
 "nbformat": 4,
 "nbformat_minor": 4
}
